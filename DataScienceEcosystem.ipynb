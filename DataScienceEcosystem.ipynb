{
 "cells": [
  {
   "cell_type": "markdown",
   "id": "d866599e-227a-4aa0-afa5-660c387ce2ca",
   "metadata": {},
   "source": [
    "# Data Science Tools and Ecosystem"
   ]
  },
  {
   "cell_type": "markdown",
   "id": "567bd7e4-eb76-4228-8d13-245f07bcf749",
   "metadata": {},
   "source": [
    "## Author \n",
    "Sara Sellers"
   ]
  },
  {
   "cell_type": "markdown",
   "id": "92163a1f-58cb-48df-8ddd-e1d442110598",
   "metadata": {},
   "source": [
    "In this notebook, Data Science Tools and Ecosystem are summarized."
   ]
  },
  {
   "cell_type": "markdown",
   "id": "76dcee44-aebb-4334-9418-eab8c7d7cbd5",
   "metadata": {},
   "source": [
    "**Objectives**\n",
    "* Popular languages for Data Science\n",
    "* Commonly used libraries used by Data Scientists\n",
    "* Data Science Tools"
   ]
  },
  {
   "cell_type": "markdown",
   "id": "63867a2e-6f86-4fd1-8b98-6829ddd8bfbf",
   "metadata": {},
   "source": [
    "Some of the popular languages that Data Scientists use are:"
   ]
  },
  {
   "cell_type": "markdown",
   "id": "086b1f94-91ba-46cf-afdc-48422efa7532",
   "metadata": {},
   "source": [
    "1. Python\n",
    "2. R\n",
    "3. SQL"
   ]
  },
  {
   "cell_type": "markdown",
   "id": "3b1bcba8-81ac-484e-ad1e-3dc280e034f7",
   "metadata": {},
   "source": [
    "Some of the commonly used libraries used by Data Scientists include:\n"
   ]
  },
  {
   "cell_type": "markdown",
   "id": "a972b76d-2ed4-4146-9848-2d63b0ead3d5",
   "metadata": {
    "tags": []
   },
   "source": [
    "1. Pandas\n",
    "2. NumPy\n",
    "3. Matplotlib\n",
    "4. Seaborn\n",
    "5. Scikit-learn"
   ]
  },
  {
   "cell_type": "markdown",
   "id": "a4281bf3-8026-4e94-95f6-5e074bbff572",
   "metadata": {},
   "source": [
    "| Data Science Tools|\n",
    "| ------|\n",
    "| Jupyter Notebook |\n",
    "| Jupyter Lite |\n",
    "| Google Colaboratory |"
   ]
  },
  {
   "cell_type": "markdown",
   "id": "25599911-22e9-4c91-8c83-1bd8d6d8fda2",
   "metadata": {},
   "source": [
    "### Below are a few examples of evaluating arithmetic expressions in Python.\n"
   ]
  },
  {
   "cell_type": "code",
   "execution_count": 9,
   "id": "5b6b9236-144f-4ecf-ad37-c58db34826ec",
   "metadata": {
    "tags": []
   },
   "outputs": [
    {
     "data": {
      "text/plain": [
       "17"
      ]
     },
     "execution_count": 9,
     "metadata": {},
     "output_type": "execute_result"
    }
   ],
   "source": [
    "# This a simple arithmetic expression to mutiply then add integers\n",
    "(3*4)+5"
   ]
  },
  {
   "cell_type": "code",
   "execution_count": 10,
   "id": "5bb4a748-7b45-4f88-8f08-42f8aebbbcf9",
   "metadata": {
    "tags": []
   },
   "outputs": [
    {
     "data": {
      "text/plain": [
       "3.3333333333333335"
      ]
     },
     "execution_count": 10,
     "metadata": {},
     "output_type": "execute_result"
    }
   ],
   "source": [
    "#  This will convert 200 minutes to hours by dividing by 60\n",
    "(200/60)"
   ]
  },
  {
   "cell_type": "code",
   "execution_count": null,
   "id": "17026c12-9b15-43b5-8804-f80e4578602a",
   "metadata": {},
   "outputs": [],
   "source": []
  }
 ],
 "metadata": {
  "kernelspec": {
   "display_name": "Python",
   "language": "python",
   "name": "conda-env-python-py"
  },
  "language_info": {
   "codemirror_mode": {
    "name": "ipython",
    "version": 3
   },
   "file_extension": ".py",
   "mimetype": "text/x-python",
   "name": "python",
   "nbconvert_exporter": "python",
   "pygments_lexer": "ipython3",
   "version": "3.7.12"
  }
 },
 "nbformat": 4,
 "nbformat_minor": 5
}
